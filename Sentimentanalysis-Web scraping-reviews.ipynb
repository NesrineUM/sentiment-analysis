{
  "nbformat": 4,
  "nbformat_minor": 0,
  "metadata": {
    "colab": {
      "provenance": [],
      "machine_shape": "hm",
      "gpuType": "L4"
    },
    "kernelspec": {
      "name": "python3",
      "display_name": "Python 3"
    },
    "language_info": {
      "name": "python"
    },
    "accelerator": "GPU"
  },
  "cells": [
    {
      "cell_type": "code",
      "source": [
        "import pandas as pd\n",
        "from sklearn.model_selection import train_test_split\n",
        "from sklearn.feature_extraction.text import TfidfVectorizer\n",
        "from sklearn.ensemble import RandomForestClassifier, AdaBoostClassifier\n",
        "from sklearn.tree import DecisionTreeClassifier\n",
        "from sklearn.metrics import accuracy_score, precision_score, recall_score, f1_score\n",
        "from keras.models import Sequential\n",
        "from keras.layers import Embedding, LSTM, Bidirectional, Dense, Conv1D, GlobalMaxPooling1D\n",
        "from transformers import BertTokenizer, TFBertForSequenceClassification\n",
        "import tensorflow as tf"
      ],
      "metadata": {
        "id": "RebiQmZEklBD"
      },
      "execution_count": null,
      "outputs": []
    },
    {
      "cell_type": "code",
      "source": [
        "import requests\n",
        "from bs4 import BeautifulSoup\n",
        "import json\n",
        "import pandas as pd\n",
        "\n",
        "headers = {\n",
        "    'User-Agent': 'Mozilla/5.0 (Windows NT 10.0; Win64; x64) AppleWebKit/537.36 (KHTML, like Gecko) Chrome/58.0.3029.110 Safari/537.3'}\n",
        "\n",
        "# Function to get product reviews from BestBuy\n",
        "def get_bestbuy_reviews(product_url):\n",
        "    response = requests.get(product_url, headers=headers)\n",
        "    if response.status_code != 200:\n",
        "        print(f\"Failed to fetch page, status code: {response.status_code}\")\n",
        "        return\n",
        "\n",
        "    soup = BeautifulSoup(response.content, 'html.parser')\n",
        "\n",
        "    # Extract reviews data from JSON embedded in the HTML\n",
        "    scripts = soup.find_all('script', type='application/ld+json')\n",
        "    reviews = []\n",
        "\n",
        "    for script in scripts:\n",
        "        try:\n",
        "            data = json.loads(script.string)\n",
        "            if isinstance(data, dict) and 'review' in data:\n",
        "                reviews.extend(data['review'])\n",
        "        except json.JSONDecodeError:\n",
        "            pass\n",
        "\n",
        "    # Prepare the data\n",
        "    extracted_reviews = []\n",
        "    for review in reviews:\n",
        "        extracted_reviews.append({\n",
        "            'author': review.get('author', {}).get('name', 'N/A'),\n",
        "            'rating': review.get('reviewRating', {}).get('ratingValue', 'N/A'),\n",
        "            'date': review.get('datePublished', 'N/A'),\n",
        "            'reviewText': review.get('description', 'N/A'),\n",
        "        })\n",
        "\n",
        "    # Save data to a DataFrame\n",
        "    df = pd.DataFrame(extracted_reviews)\n",
        "    if not df.empty:\n",
        "        df.to_csv('bestbuy_reviews.csv', index=False)\n",
        "        print(\"Reviews have been saved to bestbuy_reviews.csv\")\n",
        "    else:\n",
        "        print(\"No reviews found on this page.\")\n",
        "\n",
        "# Example usage\n",
        "product_url = 'https://www.bestbuy.com/site/reviews/cyberpowerpc-gamer-master-gaming-desktop-amd-ryzen-5-5500-16gb-memory-amd-radeon-rx-6500-xt-4gb-1tb-ssd-black/6575071?variant=A'  # Replace with the actual product URL\n",
        "get_bestbuy_reviews(product_url)\n"
      ],
      "metadata": {
        "id": "I63s1w4ekdU4"
      },
      "execution_count": null,
      "outputs": []
    },
    {
      "cell_type": "code",
      "source": [
        "import matplotlib.pyplot as plt\n",
        "\n",
        "# Data\n",
        "labels = ['Negative', 'Neutral', 'Positive']\n",
        "values = [5180, 5180, 5180]  # Assuming the remaining data is positive\n",
        "\n",
        "# Create the chart\n",
        "plt.figure(figsize=(8, 6))\n",
        "colors = ['red', 'blue', 'green']  # Colors for each class\n",
        "plt.bar(labels, values, color=colors)\n",
        "\n",
        "# Labeling the chart\n",
        "plt.xlabel('Sentiment Classes')\n",
        "plt.ylabel('Count')\n",
        "plt.title('Distribution of Sentiment Classes')\n",
        "\n",
        "# Show the chart\n",
        "plt.show()"
      ],
      "metadata": {
        "colab": {
          "base_uri": "https://localhost:8080/",
          "height": 564
        },
        "id": "DDIdbDg6Jm6b",
        "outputId": "52f06198-5cd5-449d-9935-3ddd7276df69"
      },
      "execution_count": null,
      "outputs": [
        {
          "output_type": "display_data",
          "data": {
            "text/plain": [
              "<Figure size 800x600 with 1 Axes>"
            ],
            "image/png": "[encoded data removed]"
          },
          "metadata": {}
        }
      ]
    },
    {
      "cell_type": "code",
      "source": [
        "import matplotlib.pyplot as plt\n",
        "\n",
        "# Data\n",
        "labels = ['Negative', 'Neutral', 'Positive']\n",
        "values = [1670, 950, 7800 - (1670 + 950)]  # Assuming the remaining data is positive\n",
        "\n",
        "# Create the chart\n",
        "plt.figure(figsize=(8, 6))\n",
        "colors = ['red', 'blue', 'green']  # Colors for each class\n",
        "plt.bar(labels, values, color=colors)\n",
        "\n",
        "# Labeling the chart\n",
        "plt.xlabel('Sentiment Classes')\n",
        "plt.ylabel('Count')\n",
        "plt.title('Distribution of Sentiment Classes')\n",
        "\n",
        "# Show the chart\n",
        "plt.show()"
      ],
      "metadata": {
        "colab": {
          "base_uri": "https://localhost:8080/",
          "height": 564
        },
        "id": "F-_72jnnTPB6",
        "outputId": "07eb8082-4511-4779-8a0e-9d6c1783f0e7"
      },
      "execution_count": null,
      "outputs": [
        {
          "output_type": "display_data",
          "data": {
            "text/plain": [
              "<Figure size 800x600 with 1 Axes>"
            ],
            "image/png": "[encoded data removed]"
          },
          "metadata": {}
        }
      ]
    },
    {
      "cell_type": "code",
      "source": [
        "import requests\n",
        "from bs4 import BeautifulSoup\n",
        "\n",
        "# Step 3: Specify the URL of the reviews page\n",
        "url = \"https://www.bestbuy.com/site/reviews/samsung-27-8-cu-ft-4-door-french-door-refrigerator-with-food-showcase-fingerprint-resistant-black-stainless-steel/6323228\"  # Replace this with the actual URL you want to scrape\n",
        "\n",
        "# Step 4: Send a GET request to the website to retrieve the HTML content\n",
        "headers = {\n",
        "    'User-Agent': 'Mozilla/5.0 (Windows NT 10.0; Win64; x64) AppleWebKit/537.36 (KHTML, like Gecko) Chrome/91.0.4472.124 Safari/537.36'\n",
        "}\n",
        "response = requests.get(url, headers=headers)\n",
        "\n",
        "# Step 5: Parse the HTML content with BeautifulSoup\n",
        "soup = BeautifulSoup(response.content, 'html.parser')\n",
        "\n",
        "# Step 6: Extract reviews using a CSS selector that matches the review elements\n",
        "reviews = []\n",
        "# Assuming the reviews are in <div> tags with class 'review-content' - replace as necessary\n",
        "review_elements = soup.find_all('div', class_='review-content')\n",
        "\n",
        "# Step 7: Iterate over review elements and extract the text\n",
        "for review in review_elements:\n",
        "    reviews.append(review.text.strip())\n",
        "\n",
        "# Step 8: Display the reviews (print first 5 reviews)\n",
        "print(reviews[:5])\n"
      ],
      "metadata": {
        "id": "Klze1Yu4Njbo"
      },
      "execution_count": null,
      "outputs": []
    },
    {
      "cell_type": "code",
      "source": [
        "\n",
        "\n",
        "\n",
        "# Preprocessing\n",
        "X = dataset['review_text']\n",
        "y = dataset['sentiment']\n",
        "\n",
        "# Split into training and testing sets\n",
        "X_train, X_test, y_train, y_test = train_test_split(X, y, test_size=0.2, random_state=42)\n",
        "\n",
        "# Convert text data to TF-IDF features for traditional models\n",
        "vectorizer = TfidfVectorizer(max_features=5000)\n",
        "X_train_tfidf = vectorizer.fit_transform(X_train).toarray()\n",
        "X_test_tfidf = vectorizer.transform(X_test).toarray()\n",
        "\n",
        "# Dictionary to store model results\n",
        "results = {}\n",
        "\n",
        "# Function to calculate metrics\n",
        "def evaluate_model(y_true, y_pred, model_name):\n",
        "    accuracy = accuracy_score(y_true, y_pred)\n",
        "    precision = precision_score(y_true, y_pred, average='weighted')\n",
        "    recall = recall_score(y_true, y_pred, average='weighted')\n",
        "    f1 = f1_score(y_true, y_pred, average='weighted')\n",
        "    results[model_name] = [accuracy, precision, recall, f1]\n",
        "\n",
        "# Random Forest\n",
        "rf = RandomForestClassifier()\n",
        "rf.fit(X_train_tfidf, y_train)\n",
        "y_pred_rf = rf.predict(X_test_tfidf)\n",
        "evaluate_model(y_test, y_pred_rf, 'Random Forest')\n",
        "\n",
        "# Decision Tree\n",
        "dt = DecisionTreeClassifier()\n",
        "dt.fit(X_train_tfidf, y_train)\n",
        "y_pred_dt = dt.predict(X_test_tfidf)\n",
        "evaluate_model(y_test, y_pred_dt, 'Decision Tree')\n",
        "\n",
        "# Adaboost\n",
        "ab = AdaBoostClassifier()\n",
        "ab.fit(X_train_tfidf, y_train)\n",
        "y_pred_ab = ab.predict(X_test_tfidf)\n",
        "evaluate_model(y_test, y_pred_ab, 'Adaboost')\n",
        "\n",
        "# CNN\n",
        "cnn_model = Sequential([\n",
        "    Embedding(input_dim=5000, output_dim=128, input_length=5000),\n",
        "    Conv1D(filters=64, kernel_size=5, activation='relu'),\n",
        "    GlobalMaxPooling1D(),\n",
        "    Dense(64, activation='relu'),\n",
        "    Dense(1, activation='sigmoid')\n",
        "])\n",
        "cnn_model.compile(optimizer='adam', loss='binary_crossentropy', metrics=['accuracy'])\n",
        "cnn_model.fit(X_train_tfidf, y_train, epochs=5, batch_size=32, verbose=1)\n",
        "y_pred_cnn = cnn_model.predict(X_test_tfidf).round().astype(int)\n",
        "evaluate_model(y_test, y_pred_cnn, 'CNN')\n",
        "\n",
        "# LSTM\n",
        "lstm_model = Sequential([\n",
        "    Embedding(input_dim=5000, output_dim=128, input_length=5000),\n",
        "    LSTM(128),\n",
        "    Dense(1, activation='sigmoid')\n",
        "])\n",
        "lstm_model.compile(optimizer='adam', loss='binary_crossentropy', metrics=['accuracy'])\n",
        "lstm_model.fit(X_train_tfidf, y_train, epochs=5, batch_size=32, verbose=1)\n",
        "y_pred_lstm = lstm_model.predict(X_test_tfidf).round().astype(int)\n",
        "evaluate_model(y_test, y_pred_lstm, 'LSTM')\n",
        "\n",
        "# Bidirectional LSTM\n",
        "bi_lstm_model = Sequential([\n",
        "    Embedding(input_dim=5000, output_dim=128, input_length=5000),\n",
        "    Bidirectional(LSTM(128)),\n",
        "    Dense(1, activation='sigmoid')\n",
        "])\n",
        "bi_lstm_model.compile(optimizer='adam', loss='binary_crossentropy', metrics=['accuracy'])\n",
        "bi_lstm_model.fit(X_train_tfidf, y_train, epochs=5, batch_size=32, verbose=1)\n",
        "y_pred_bi_lstm = bi_lstm_model.predict(X_test_tfidf).round().astype(int)\n",
        "evaluate_model(y_test, y_pred_bi_lstm, 'Bidirectional LSTM')\n",
        "\n",
        "# BERT\n",
        "bert_tokenizer = BertTokenizer.from_pretrained('bert-base-uncased')\n",
        "def encode_texts(texts):\n",
        "    return bert_tokenizer(list(texts), padding=True, truncation=True, return_tensors='tf')\n",
        "X_train_bert = encode_texts(X_train)\n",
        "X_test_bert = encode_texts(X_test)\n",
        "\n",
        "bert_model = TFBertForSequenceClassification.from_pretrained('bert-base-uncased', num_labels=2)\n",
        "bert_model.compile(optimizer=tf.keras.optimizers.Adam(learning_rate=2e-5),\n",
        "                   loss=tf.keras.losses.SparseCategoricalCrossentropy(from_logits=True),\n",
        "                   metrics=['accuracy'])\n",
        "bert_model.fit(X_train_bert['input_ids'], y_train, epochs=3, batch_size=8)\n",
        "y_pred_bert = tf.argmax(bert_model.predict(X_test_bert['input_ids']).logits, axis=1).numpy()\n",
        "evaluate_model(y_test, y_pred_bert, 'BERT')\n",
        "\n",
        "# Print results\n",
        "results_df = pd.DataFrame(results, index=['Accuracy', 'Precision', 'Recall', 'F1 Score']).T\n",
        "print(results_df)\n"
      ],
      "metadata": {
        "id": "Rxbyctg7N4TZ"
      },
      "execution_count": null,
      "outputs": []
    }
  ]
}